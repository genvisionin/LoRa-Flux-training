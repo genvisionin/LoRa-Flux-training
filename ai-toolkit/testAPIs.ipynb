{
 "cells": [
  {
   "cell_type": "code",
   "execution_count": 2,
   "id": "1c4ea42a-1f08-4524-a50f-2729e76badfc",
   "metadata": {},
   "outputs": [
    {
     "name": "stdout",
     "output_type": "stream",
     "text": [
      "200\n",
      "{'message': 'Upload successful, training started'}\n"
     ]
    }
   ],
   "source": [
    "import os\n",
    "import requests\n",
    "\n",
    "# Specify the folder containing the images\n",
    "folder_path = 'images'\n",
    "\n",
    "# List all files in the folder and filter for image files (if needed)\n",
    "image_files = [os.path.join(folder_path, file) for file in os.listdir(folder_path) if os.path.isfile(os.path.join(folder_path, file))]\n",
    "\n",
    "# Prepare the files dictionary for the POST request\n",
    "files = [('images', (os.path.basename(image_path), open(image_path, 'rb'))) for image_path in image_files]\n",
    "\n",
    "# Make the POST request\n",
    "upload_response = requests.post('http://localhost:8000/upload-images', files=files)\n",
    "\n",
    "# Print the response\n",
    "print(upload_response.status_code)\n",
    "print(upload_response.json())\n"
   ]
  },
  {
   "cell_type": "code",
   "execution_count": 15,
   "id": "e7b36416-b33a-4bdf-acc0-583af25bfcee",
   "metadata": {},
   "outputs": [
    {
     "name": "stdout",
     "output_type": "stream",
     "text": [
      "Status Code: 200\n",
      "Training Progress:\n",
      "{'progress': 0, 'status': 'training', 'time_metrics': {'elapsed_time': '02:10:56', 'estimated_time_remaining': None, 'training_duration': None}, 'training_metrics': {'current_epoch': 0, 'total_epochs': 0, 'current_step': 0, 'total_steps': 0, 'epoch_progress': 0.0, 'overall_progress': 0.0, 'current_loss': None}, 'resource_metrics': {'gpu_memory': {'timestamp': 1738151334.275956, 'used_memory': 23561.0, 'total_memory': 46068.0, 'utilization': 51.14396110098116}, 'cpu_utilization': {'timestamp': 1738151334.2761085, 'utilization': 26.3}}, 'validation_metrics': {'validation_loss': None, 'accuracy': None, 'f1_score': None, 'precision': None, 'recall': None}, 'error': None}\n"
     ]
    }
   ],
   "source": [
    "import requests\n",
    "\n",
    "# Make the GET request to the endpoint\n",
    "progress_response = requests.get('http://localhost:8000/get-training-progress')\n",
    "\n",
    "# Print the HTTP status code\n",
    "print(f\"Status Code: {progress_response.status_code}\")\n",
    "\n",
    "# Print the JSON response if the status code is 200 (OK)\n",
    "if progress_response.status_code == 200:\n",
    "    print(\"Training Progress:\")\n",
    "    print(progress_response.json())\n",
    "else:\n",
    "    print(f\"Error: {progress_response.text}\")\n"
   ]
  },
  {
   "cell_type": "code",
   "execution_count": 11,
   "id": "1bad90b6-275e-49f7-b2a1-615a0ee4185a",
   "metadata": {},
   "outputs": [
    {
     "name": "stdout",
     "output_type": "stream",
     "text": [
      "Status Code: 200\n",
      "LoRa File Details:\n",
      "{'status': 'in_progress', 'progress': 0, 'details': {'start_time': 1738148709.5298123, 'end_time': None, 'total_epochs': 0, 'current_epoch': 0, 'total_steps': 0, 'current_step': 0, 'current_loss': None, 'loss_history': [], 'epoch_progress': 0.0, 'overall_progress': 0.0, 'estimated_time_remaining': None, 'formatted_time_remaining': None, 'elapsed_time': 4501.570471048355, 'formatted_elapsed_time': '01:15:01', 'validation_metrics': {'validation_loss': None, 'accuracy': None, 'f1_score': None, 'precision': None, 'recall': None}, 'gpu_memory_usage': [{'timestamp': 1738148712.7445588, 'used_memory': 2121.0, 'total_memory': 46068.0, 'utilization': 4.604063558218286}, {'timestamp': 1738149762.0388422, 'used_memory': 14857.0, 'total_memory': 46068.0, 'utilization': 32.25015194929235}, {'timestamp': 1738150713.407215, 'used_memory': 19897.0, 'total_memory': 46068.0, 'utilization': 43.19050099852392}, {'timestamp': 1738150743.8338726, 'used_memory': 20157.0, 'total_memory': 46068.0, 'utilization': 43.75488408439698}, {'timestamp': 1738150798.1478324, 'used_memory': 19923.0, 'total_memory': 46068.0, 'utilization': 43.24693930711123}, {'timestamp': 1738151258.7273183, 'used_memory': 20673.0, 'total_memory': 46068.0, 'utilization': 44.874967439437356}, {'timestamp': 1738151334.275956, 'used_memory': 23561.0, 'total_memory': 46068.0, 'utilization': 51.14396110098116}], 'cpu_utilization': [{'timestamp': 1738148712.7446995, 'utilization': 37.9}, {'timestamp': 1738149762.0389717, 'utilization': 4.4}, {'timestamp': 1738150713.4073853, 'utilization': 2.7}, {'timestamp': 1738150743.8340306, 'utilization': 28.5}, {'timestamp': 1738150798.1479895, 'utilization': 25.7}, {'timestamp': 1738151258.7274568, 'utilization': 26.2}, {'timestamp': 1738151334.2761085, 'utilization': 26.3}], 'training_duration': 2624.7463994026184, 'formatted_duration': None, 'error': None, 'error_details': None, 'debug_logs': []}}\n"
     ]
    }
   ],
   "source": [
    "import requests\n",
    "\n",
    "# Request the LoRa file status or URL\n",
    "lora_response = requests.get('http://localhost:8000/get-lora-file')\n",
    "\n",
    "# Print the HTTP status code\n",
    "print(f\"Status Code: {lora_response.status_code}\")\n",
    "\n",
    "# Check if the response is successful\n",
    "if lora_response.status_code == 200:\n",
    "    print(\"LoRa File Details:\")\n",
    "    print(lora_response.json())\n",
    "else:\n",
    "    print(f\"Error: {lora_response.text}\")\n"
   ]
  },
  {
   "cell_type": "code",
   "execution_count": 13,
   "id": "c85feae5-47e2-43cb-9430-15fae01d0067",
   "metadata": {},
   "outputs": [
    {
     "name": "stdout",
     "output_type": "stream",
     "text": [
      "Bucket Details:\n",
      "bucket_name: sagemaker-us-east-1-274412008471\n",
      "exists: True\n",
      "is_empty: False\n",
      "creation_date: Wed, 29 Jan 2025 08:25:40 GMT\n",
      "total_objects: 1\n",
      "total_size_bytes: 343805440\n",
      "objects: [{'key': 'trained_models/vijay_field/vijay_field_000001800.safetensors', 'size': 343805440}]\n"
     ]
    }
   ],
   "source": [
    "import boto3\n",
    "import sagemaker\n",
    "from datetime import datetime\n",
    "\n",
    "def check_sagemaker_default_bucket():\n",
    "    \"\"\"\n",
    "    Check SageMaker default bucket details.\n",
    "    \n",
    "    Returns:\n",
    "    dict: Comprehensive bucket information\n",
    "    \"\"\"\n",
    "    try:\n",
    "        # Get the SageMaker session and default bucket\n",
    "        sagemaker_session = sagemaker.Session()\n",
    "        default_bucket = sagemaker_session.default_bucket()\n",
    "        \n",
    "        # Create S3 clients\n",
    "        s3_client = boto3.client('s3')\n",
    "        s3_resource = boto3.resource('s3')\n",
    "        \n",
    "        # Get bucket metadata\n",
    "        bucket = s3_resource.Bucket(default_bucket)\n",
    "        \n",
    "        # List objects in the bucket\n",
    "        try:\n",
    "            response = s3_client.list_objects_v2(Bucket=default_bucket)\n",
    "            \n",
    "            # Get bucket creation time\n",
    "            bucket_info = s3_client.head_bucket(Bucket=default_bucket)\n",
    "            creation_date = bucket_info.get('ResponseMetadata', {}).get('HTTPHeaders', {}).get('date')\n",
    "            \n",
    "            # Check if bucket is empty\n",
    "            if response['KeyCount'] == 0:\n",
    "                return {\n",
    "                    'bucket_name': default_bucket,\n",
    "                    'exists': True,\n",
    "                    'is_empty': True,\n",
    "                    'creation_date': creation_date,\n",
    "                    'total_objects': 0,\n",
    "                    'total_size_bytes': 0\n",
    "                }\n",
    "            \n",
    "            # Calculate total size\n",
    "            total_size = sum(obj.size for obj in bucket.objects.all())\n",
    "            \n",
    "            return {\n",
    "                'bucket_name': default_bucket,\n",
    "                'exists': True,\n",
    "                'is_empty': False,\n",
    "                'creation_date': creation_date,\n",
    "                'total_objects': response['KeyCount'],\n",
    "                'total_size_bytes': total_size,\n",
    "                'objects': [\n",
    "                    {\n",
    "                        'key': obj['Key'], \n",
    "                        'size': s3_client.head_object(Bucket=default_bucket, Key=obj['Key'])['ContentLength']\n",
    "                    } \n",
    "                    for obj in response.get('Contents', [])\n",
    "                ]\n",
    "            }\n",
    "        \n",
    "        except s3_client.exceptions.NoSuchBucket:\n",
    "            return {\n",
    "                'exists': False,\n",
    "                'error': 'Bucket does not exist'\n",
    "            }\n",
    "    \n",
    "    except Exception as e:\n",
    "        return {\n",
    "            'exists': False,\n",
    "            'error': str(e)\n",
    "        }\n",
    "\n",
    "# Example usage\n",
    "bucket_details = check_sagemaker_default_bucket()\n",
    "print(\"Bucket Details:\")\n",
    "for key, value in bucket_details.items():\n",
    "    print(f\"{key}: {value}\")"
   ]
  },
  {
   "cell_type": "code",
   "execution_count": 3,
   "id": "3f4013b5-157f-4a79-8da7-369fd8afe4d0",
   "metadata": {},
   "outputs": [
    {
     "name": "stdout",
     "output_type": "stream",
     "text": [
      "Requirement already satisfied: sagemaker in /opt/conda/lib/python3.11/site-packages (2.227.0)\n",
      "Requirement already satisfied: attrs<24,>=23.1.0 in /opt/conda/lib/python3.11/site-packages (from sagemaker) (23.2.0)\n",
      "Requirement already satisfied: boto3<2.0,>=1.34.142 in /opt/conda/lib/python3.11/site-packages (from sagemaker) (1.34.162)\n",
      "Requirement already satisfied: cloudpickle==2.2.1 in /opt/conda/lib/python3.11/site-packages (from sagemaker) (2.2.1)\n",
      "Requirement already satisfied: google-pasta in /opt/conda/lib/python3.11/site-packages (from sagemaker) (0.2.0)\n",
      "Requirement already satisfied: numpy<2.0,>=1.9.0 in /opt/conda/lib/python3.11/site-packages (from sagemaker) (1.26.4)\n",
      "Requirement already satisfied: protobuf<5.0,>=3.12 in /opt/conda/lib/python3.11/site-packages (from sagemaker) (4.25.3)\n",
      "Requirement already satisfied: smdebug-rulesconfig==1.0.1 in /opt/conda/lib/python3.11/site-packages (from sagemaker) (1.0.1)\n",
      "Requirement already satisfied: importlib-metadata<7.0,>=1.4.0 in /opt/conda/lib/python3.11/site-packages (from sagemaker) (6.10.0)\n",
      "Requirement already satisfied: packaging>=20.0 in /opt/conda/lib/python3.11/site-packages (from sagemaker) (24.2)\n",
      "Requirement already satisfied: pandas in /opt/conda/lib/python3.11/site-packages (from sagemaker) (2.2.3)\n",
      "Requirement already satisfied: pathos in /opt/conda/lib/python3.11/site-packages (from sagemaker) (0.3.3)\n",
      "Requirement already satisfied: schema in /opt/conda/lib/python3.11/site-packages (from sagemaker) (0.7.7)\n",
      "Requirement already satisfied: PyYAML~=6.0 in /opt/conda/lib/python3.11/site-packages (from sagemaker) (6.0.2)\n",
      "Requirement already satisfied: jsonschema in /opt/conda/lib/python3.11/site-packages (from sagemaker) (4.23.0)\n",
      "Requirement already satisfied: platformdirs in /opt/conda/lib/python3.11/site-packages (from sagemaker) (4.3.6)\n",
      "Requirement already satisfied: tblib<4,>=1.7.0 in /opt/conda/lib/python3.11/site-packages (from sagemaker) (2.0.0)\n",
      "Requirement already satisfied: urllib3<3.0.0,>=1.26.8 in /opt/conda/lib/python3.11/site-packages (from sagemaker) (1.26.19)\n",
      "Requirement already satisfied: requests in /opt/conda/lib/python3.11/site-packages (from sagemaker) (2.32.3)\n",
      "Requirement already satisfied: docker in /opt/conda/lib/python3.11/site-packages (from sagemaker) (7.1.0)\n",
      "Requirement already satisfied: tqdm in /opt/conda/lib/python3.11/site-packages (from sagemaker) (4.67.1)\n",
      "Requirement already satisfied: psutil in /opt/conda/lib/python3.11/site-packages (from sagemaker) (5.9.8)\n",
      "Requirement already satisfied: botocore<1.35.0,>=1.34.162 in /opt/conda/lib/python3.11/site-packages (from boto3<2.0,>=1.34.142->sagemaker) (1.34.162)\n",
      "Requirement already satisfied: jmespath<2.0.0,>=0.7.1 in /opt/conda/lib/python3.11/site-packages (from boto3<2.0,>=1.34.142->sagemaker) (1.0.1)\n",
      "Requirement already satisfied: s3transfer<0.11.0,>=0.10.0 in /opt/conda/lib/python3.11/site-packages (from boto3<2.0,>=1.34.142->sagemaker) (0.10.4)\n",
      "Requirement already satisfied: zipp>=0.5 in /opt/conda/lib/python3.11/site-packages (from importlib-metadata<7.0,>=1.4.0->sagemaker) (3.21.0)\n",
      "Requirement already satisfied: charset_normalizer<4,>=2 in /opt/conda/lib/python3.11/site-packages (from requests->sagemaker) (3.4.0)\n",
      "Requirement already satisfied: idna<4,>=2.5 in /opt/conda/lib/python3.11/site-packages (from requests->sagemaker) (3.10)\n",
      "Requirement already satisfied: certifi>=2017.4.17 in /opt/conda/lib/python3.11/site-packages (from requests->sagemaker) (2024.8.30)\n",
      "Requirement already satisfied: six in /opt/conda/lib/python3.11/site-packages (from google-pasta->sagemaker) (1.17.0)\n",
      "Requirement already satisfied: jsonschema-specifications>=2023.03.6 in /opt/conda/lib/python3.11/site-packages (from jsonschema->sagemaker) (2024.10.1)\n",
      "Requirement already satisfied: referencing>=0.28.4 in /opt/conda/lib/python3.11/site-packages (from jsonschema->sagemaker) (0.35.1)\n",
      "Requirement already satisfied: rpds-py>=0.7.1 in /opt/conda/lib/python3.11/site-packages (from jsonschema->sagemaker) (0.22.3)\n",
      "Requirement already satisfied: python-dateutil>=2.8.2 in /opt/conda/lib/python3.11/site-packages (from pandas->sagemaker) (2.9.0.post0)\n",
      "Requirement already satisfied: pytz>=2020.1 in /opt/conda/lib/python3.11/site-packages (from pandas->sagemaker) (2023.3)\n",
      "Requirement already satisfied: tzdata>=2022.7 in /opt/conda/lib/python3.11/site-packages (from pandas->sagemaker) (2024.2)\n",
      "Requirement already satisfied: ppft>=1.7.6.9 in /opt/conda/lib/python3.11/site-packages (from pathos->sagemaker) (1.7.6.9)\n",
      "Requirement already satisfied: dill>=0.3.9 in /opt/conda/lib/python3.11/site-packages (from pathos->sagemaker) (0.3.9)\n",
      "Requirement already satisfied: pox>=0.3.5 in /opt/conda/lib/python3.11/site-packages (from pathos->sagemaker) (0.3.5)\n",
      "Requirement already satisfied: multiprocess>=0.70.17 in /opt/conda/lib/python3.11/site-packages (from pathos->sagemaker) (0.70.17)\n",
      "Note: you may need to restart the kernel to use updated packages.\n"
     ]
    }
   ],
   "source": [
    "pip install sagemaker\n"
   ]
  },
  {
   "cell_type": "code",
   "execution_count": 4,
   "id": "3a7ca230-9cc1-4464-b2bf-11ed96928d41",
   "metadata": {},
   "outputs": [
    {
     "ename": "NameError",
     "evalue": "name 'sagemaker' is not defined",
     "output_type": "error",
     "traceback": [
      "\u001b[0;31m---------------------------------------------------------------------------\u001b[0m",
      "\u001b[0;31mNameError\u001b[0m                                 Traceback (most recent call last)",
      "Cell \u001b[0;32mIn[4], line 1\u001b[0m\n\u001b[0;32m----> 1\u001b[0m role \u001b[38;5;241m=\u001b[39m \u001b[43msagemaker\u001b[49m\u001b[38;5;241m.\u001b[39mget_execution_role()  \u001b[38;5;66;03m# execution role for the endpoint\u001b[39;00m\n\u001b[1;32m      2\u001b[0m sess \u001b[38;5;241m=\u001b[39m sagemaker\u001b[38;5;241m.\u001b[39msession\u001b[38;5;241m.\u001b[39mSession()  \u001b[38;5;66;03m# sagemaker session for interacting with different AWS APIs\u001b[39;00m\n\u001b[1;32m      3\u001b[0m bucket \u001b[38;5;241m=\u001b[39m sess\u001b[38;5;241m.\u001b[39mdefault_bucket() \n",
      "\u001b[0;31mNameError\u001b[0m: name 'sagemaker' is not defined"
     ]
    }
   ],
   "source": [
    "role = sagemaker.get_execution_role()  # execution role for the endpoint\n",
    "sess = sagemaker.session.Session()  # sagemaker session for interacting with different AWS APIs\n",
    "bucket = sess.default_bucket() "
   ]
  },
  {
   "cell_type": "code",
   "execution_count": null,
   "id": "9bea732c-e5dd-4324-8494-d74f085d5acf",
   "metadata": {},
   "outputs": [],
   "source": []
  }
 ],
 "metadata": {
  "kernelspec": {
   "display_name": "Python 3 (ipykernel)",
   "language": "python",
   "name": "python3"
  },
  "language_info": {
   "codemirror_mode": {
    "name": "ipython",
    "version": 3
   },
   "file_extension": ".py",
   "mimetype": "text/x-python",
   "name": "python",
   "nbconvert_exporter": "python",
   "pygments_lexer": "ipython3",
   "version": "3.11.11"
  }
 },
 "nbformat": 4,
 "nbformat_minor": 5
}
